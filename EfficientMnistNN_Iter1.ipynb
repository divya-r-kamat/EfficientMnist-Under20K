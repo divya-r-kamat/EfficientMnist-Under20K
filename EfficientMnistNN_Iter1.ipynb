{
  "nbformat": 4,
  "nbformat_minor": 0,
  "metadata": {
    "colab": {
      "provenance": [],
      "gpuType": "T4",
      "authorship_tag": "ABX9TyOmg1MAGIAbYSFf/h0A2VIs"
    },
    "kernelspec": {
      "name": "python3",
      "display_name": "Python 3"
    },
    "language_info": {
      "name": "python"
    },
    "accelerator": "GPU"
  },
  "cells": [
    {
      "cell_type": "markdown",
      "source": [
        "## MNist Neural Network\n",
        "\n",
        "The goal is to achieve 99.4% validation/test accuracy, with less than 20k Parameters and in 20 epochs\n",
        "\n",
        "We start with https://github.com/divya-r-kamat/MnistNN/blob/main/initial-mnist-nn-iteration9.ipynb where we had less tham 25K parameters, but increased the epoch to 20k"
      ],
      "metadata": {
        "id": "hX9pHnOLkK53"
      }
    },
    {
      "cell_type": "markdown",
      "source": [
        "### Import Libraries"
      ],
      "metadata": {
        "id": "4MnivLsPvV5J"
      }
    },
    {
      "cell_type": "code",
      "execution_count": 1,
      "metadata": {
        "id": "V2hAypEbkHWL"
      },
      "outputs": [],
      "source": [
        "from __future__ import print_function\n",
        "import torch\n",
        "import torch.nn as nn\n",
        "import torch.nn.functional as F\n",
        "import torch.optim as optim\n",
        "from torchvision import datasets, transforms\n",
        "from torchsummary import summary\n",
        "import matplotlib.pyplot as plt"
      ]
    },
    {
      "cell_type": "markdown",
      "source": [
        "### Model Architecture"
      ],
      "metadata": {
        "id": "67M0IL0qvfQ6"
      }
    },
    {
      "cell_type": "code",
      "source": [
        "class Net(nn.Module):\n",
        "    #This defines the structure of the NN.\n",
        "    def __init__(self):\n",
        "        super(Net, self).__init__()\n",
        "        self.conv1 = nn.Conv2d(1, 8, kernel_size=3)\n",
        "        self.conv2 = nn.Conv2d(8, 16, kernel_size=3)\n",
        "        self.conv3 = nn.Conv2d(16, 28, kernel_size=3)\n",
        "        self.conv4 = nn.Conv2d(28, 8, kernel_size=1)\n",
        "        self.conv5 = nn.Conv2d(8, 16, kernel_size=3)\n",
        "        self.conv6 = nn.Conv2d(16, 28, kernel_size=3)\n",
        "        self.fc1 = nn.Linear(7 * 7 * 28, 10)\n",
        "\n",
        "    def forward(self, x):\n",
        "        x = F.relu(self.conv1(x), 2) # 26 x 26 x 16\n",
        "        x = F.relu(self.conv2(x), 2) # 24 x 24 x 28\n",
        "        x = F.relu(F.max_pool2d(self.conv3(x), 2))  # 22 x 22 x 28 | 11 x 11 x 28\n",
        "        x = F.relu(self.conv4(x), 2) # 11 x 11 x 8\n",
        "        x = F.relu(self.conv5(x), 2) # 9 x 9 x 16\n",
        "        x = F.relu(self.conv6(x), 2) # 7 x 7 x 28\n",
        "        x = x.view(-1, 7 * 7 * 28)\n",
        "        x = self.fc1(x)\n",
        "        return F.log_softmax(x, dim=1)"
      ],
      "metadata": {
        "id": "9kMv7nNUkeXR"
      },
      "execution_count": 2,
      "outputs": []
    },
    {
      "cell_type": "markdown",
      "source": [
        "### Check if CUDA is available and display model parameters\n"
      ],
      "metadata": {
        "id": "YBzMigk2vlx_"
      }
    },
    {
      "cell_type": "code",
      "source": [
        "use_cuda = torch.cuda.is_available()\n",
        "device = torch.device(\"cuda\" if use_cuda else \"cpu\")\n",
        "model = Net().to(device)\n",
        "summary(model, input_size=(1, 28, 28))"
      ],
      "metadata": {
        "colab": {
          "base_uri": "https://localhost:8080/"
        },
        "id": "c8rJ1kyRlhWB",
        "outputId": "d15f53d5-6ab2-4e87-ed86-c3a2975f16e8"
      },
      "execution_count": 3,
      "outputs": [
        {
          "output_type": "stream",
          "name": "stdout",
          "text": [
            "----------------------------------------------------------------\n",
            "        Layer (type)               Output Shape         Param #\n",
            "================================================================\n",
            "            Conv2d-1            [-1, 8, 26, 26]              80\n",
            "            Conv2d-2           [-1, 16, 24, 24]           1,168\n",
            "            Conv2d-3           [-1, 28, 22, 22]           4,060\n",
            "            Conv2d-4            [-1, 8, 11, 11]             232\n",
            "            Conv2d-5             [-1, 16, 9, 9]           1,168\n",
            "            Conv2d-6             [-1, 28, 7, 7]           4,060\n",
            "            Linear-7                   [-1, 10]          13,730\n",
            "================================================================\n",
            "Total params: 24,498\n",
            "Trainable params: 24,498\n",
            "Non-trainable params: 0\n",
            "----------------------------------------------------------------\n",
            "Input size (MB): 0.00\n",
            "Forward/backward pass size (MB): 0.24\n",
            "Params size (MB): 0.09\n",
            "Estimated Total Size (MB): 0.34\n",
            "----------------------------------------------------------------\n"
          ]
        }
      ]
    },
    {
      "cell_type": "markdown",
      "source": [
        "### Print model architecture"
      ],
      "metadata": {
        "id": "Ikfr9UAAvtCG"
      }
    },
    {
      "cell_type": "code",
      "source": [
        "print(model)"
      ],
      "metadata": {
        "colab": {
          "base_uri": "https://localhost:8080/"
        },
        "id": "-BZV275Jllam",
        "outputId": "6a0b58bf-d021-408e-c46c-d27526a4b3f3"
      },
      "execution_count": 4,
      "outputs": [
        {
          "output_type": "stream",
          "name": "stdout",
          "text": [
            "Net(\n",
            "  (conv1): Conv2d(1, 8, kernel_size=(3, 3), stride=(1, 1))\n",
            "  (conv2): Conv2d(8, 16, kernel_size=(3, 3), stride=(1, 1))\n",
            "  (conv3): Conv2d(16, 28, kernel_size=(3, 3), stride=(1, 1))\n",
            "  (conv4): Conv2d(28, 8, kernel_size=(1, 1), stride=(1, 1))\n",
            "  (conv5): Conv2d(8, 16, kernel_size=(3, 3), stride=(1, 1))\n",
            "  (conv6): Conv2d(16, 28, kernel_size=(3, 3), stride=(1, 1))\n",
            "  (fc1): Linear(in_features=1372, out_features=10, bias=True)\n",
            ")\n"
          ]
        }
      ]
    },
    {
      "cell_type": "markdown",
      "source": [
        "### Load train and test data, and apply transformations"
      ],
      "metadata": {
        "id": "cSXn64vnzdcH"
      }
    },
    {
      "cell_type": "code",
      "source": [
        "torch.manual_seed(1)\n",
        "batch_size = 128\n",
        "kwargs = {'num_workers': 1, 'pin_memory': True} if use_cuda else {}\n",
        "train_loader = torch.utils.data.DataLoader(\n",
        "    datasets.MNIST('../data', train=True, download=True,\n",
        "                    transform=transforms.Compose([\n",
        "                    transforms.RandomApply([transforms.CenterCrop(22), ], p=0.1),\n",
        "                    transforms.Resize((28, 28)),\n",
        "                    transforms.RandomRotation((-15., 15.), fill=0),\n",
        "                    transforms.ToTensor(),\n",
        "                    transforms.Normalize((0.1307,), (0.3081,)),\n",
        "                    ])),batch_size=batch_size, shuffle=True, **kwargs)\n",
        "test_loader = torch.utils.data.DataLoader(\n",
        "    datasets.MNIST('../data', train=False, transform=transforms.Compose([\n",
        "                        transforms.ToTensor(),\n",
        "                        transforms.Normalize((0.1307,), (0.3081,))\n",
        "                    ])),\n",
        "    batch_size=batch_size, shuffle=True, **kwargs)\n"
      ],
      "metadata": {
        "id": "SkiYIdLrkicW"
      },
      "execution_count": 13,
      "outputs": []
    },
    {
      "cell_type": "code",
      "source": [
        "# Data to plot accuracy and loss graphs\n",
        "train_losses = []\n",
        "test_losses = []\n",
        "train_acc = []\n",
        "test_acc = []\n",
        "\n",
        "test_incorrect_pred = {'images': [], 'ground_truths': [], 'predicted_vals': []}"
      ],
      "metadata": {
        "id": "FPhBIs6jnmRf"
      },
      "execution_count": 14,
      "outputs": []
    },
    {
      "cell_type": "markdown",
      "source": [
        "### Training Loop"
      ],
      "metadata": {
        "id": "HBh8bEhozmF0"
      }
    },
    {
      "cell_type": "code",
      "source": [
        "from tqdm import tqdm\n",
        "def train(model, device, train_loader, optimizer, epoch):\n",
        "    model.train()\n",
        "    loss = 0\n",
        "    correct = 0\n",
        "    processed = 0\n",
        "    pbar = tqdm(train_loader)\n",
        "    for batch_idx, (data, target) in enumerate(pbar):\n",
        "        data, target = data.to(device), target.to(device)\n",
        "        optimizer.zero_grad()\n",
        "        output = model(data)\n",
        "        loss = F.nll_loss(output, target)\n",
        "        loss.backward()\n",
        "        optimizer.step()\n",
        "        pred = output.argmax(dim=1, keepdim=True)  # get the index of the max log-probability\n",
        "        correct += pred.eq(target.view_as(pred)).sum().item()\n",
        "        processed += len(data)\n",
        "        pbar.set_description(desc= f'Train loss={loss.item():0.4f} batch_id={batch_idx} Accuracy={100*correct/processed:0.2f}')\n",
        "    train_acc.append(100*correct/processed)\n",
        "    train_losses.append(loss/len(train_loader))\n",
        "\n",
        "def test(model, device, test_loader):\n",
        "    model.eval()\n",
        "    test_loss = 0\n",
        "    correct = 0\n",
        "    with torch.no_grad():\n",
        "        for data, target in test_loader:\n",
        "            data, target = data.to(device), target.to(device)\n",
        "            output = model(data)\n",
        "            test_loss += F.nll_loss(output, target, reduction='sum').item()  # sum up batch loss\n",
        "            pred = output.argmax(dim=1, keepdim=True)  # get the index of the max log-probability\n",
        "            correct += pred.eq(target.view_as(pred)).sum().item()\n",
        "\n",
        "    test_loss /= len(test_loader.dataset)\n",
        "    test_acc.append(100. * correct / len(test_loader.dataset))\n",
        "    test_losses.append(test_loss)\n",
        "\n",
        "    print('Test set: Average loss: {:.4f}, Accuracy: {}/{} ({:.2f}%)\\n'.format(\n",
        "        test_loss, correct, len(test_loader.dataset),\n",
        "        100. * correct / len(test_loader.dataset)))"
      ],
      "metadata": {
        "id": "KL-i0su7krGD"
      },
      "execution_count": 15,
      "outputs": []
    },
    {
      "cell_type": "markdown",
      "source": [
        "### Model training"
      ],
      "metadata": {
        "id": "9xAO_c6Bzr9M"
      }
    },
    {
      "cell_type": "code",
      "source": [
        "\n",
        "model = Net().to(device)\n",
        "optimizer = optim.Adam(model.parameters(), lr=0.001)\n",
        "scheduler = optim.lr_scheduler.StepLR(optimizer, step_size=15, gamma=0.1)\n",
        "num_epochs = 20\n",
        "\n",
        "for epoch in range(1, num_epochs+1):\n",
        "    print(f'Epoch {epoch}')\n",
        "    train(model, device, train_loader, optimizer, epoch)\n",
        "    test(model, device, test_loader)\n",
        "    scheduler.step()"
      ],
      "metadata": {
        "colab": {
          "base_uri": "https://localhost:8080/"
        },
        "id": "7RkPicjok29r",
        "outputId": "a7b15133-3517-47e5-9e17-0d462e577d60"
      },
      "execution_count": 17,
      "outputs": [
        {
          "output_type": "stream",
          "name": "stdout",
          "text": [
            "Epoch 1\n"
          ]
        },
        {
          "output_type": "stream",
          "name": "stderr",
          "text": [
            "Train loss=0.1075 batch_id=468 Accuracy=90.49: 100%|██████████| 469/469 [00:23<00:00, 19.73it/s]\n"
          ]
        },
        {
          "output_type": "stream",
          "name": "stdout",
          "text": [
            "Test set: Average loss: 0.0770, Accuracy: 9765/10000 (97.65%)\n",
            "\n",
            "Epoch 2\n"
          ]
        },
        {
          "output_type": "stream",
          "name": "stderr",
          "text": [
            "Train loss=0.0600 batch_id=468 Accuracy=97.24: 100%|██████████| 469/469 [00:24<00:00, 19.39it/s]\n"
          ]
        },
        {
          "output_type": "stream",
          "name": "stdout",
          "text": [
            "Test set: Average loss: 0.0544, Accuracy: 9817/10000 (98.17%)\n",
            "\n",
            "Epoch 3\n"
          ]
        },
        {
          "output_type": "stream",
          "name": "stderr",
          "text": [
            "Train loss=0.0453 batch_id=468 Accuracy=97.87: 100%|██████████| 469/469 [00:23<00:00, 19.90it/s]\n"
          ]
        },
        {
          "output_type": "stream",
          "name": "stdout",
          "text": [
            "Test set: Average loss: 0.0349, Accuracy: 9896/10000 (98.96%)\n",
            "\n",
            "Epoch 4\n"
          ]
        },
        {
          "output_type": "stream",
          "name": "stderr",
          "text": [
            "Train loss=0.0752 batch_id=468 Accuracy=98.06: 100%|██████████| 469/469 [00:23<00:00, 19.88it/s]\n"
          ]
        },
        {
          "output_type": "stream",
          "name": "stdout",
          "text": [
            "Test set: Average loss: 0.0350, Accuracy: 9880/10000 (98.80%)\n",
            "\n",
            "Epoch 5\n"
          ]
        },
        {
          "output_type": "stream",
          "name": "stderr",
          "text": [
            "Train loss=0.0301 batch_id=468 Accuracy=98.34: 100%|██████████| 469/469 [00:24<00:00, 19.21it/s]\n"
          ]
        },
        {
          "output_type": "stream",
          "name": "stdout",
          "text": [
            "Test set: Average loss: 0.0286, Accuracy: 9907/10000 (99.07%)\n",
            "\n",
            "Epoch 6\n"
          ]
        },
        {
          "output_type": "stream",
          "name": "stderr",
          "text": [
            "Train loss=0.0089 batch_id=468 Accuracy=98.53: 100%|██████████| 469/469 [00:23<00:00, 19.80it/s]\n"
          ]
        },
        {
          "output_type": "stream",
          "name": "stdout",
          "text": [
            "Test set: Average loss: 0.0248, Accuracy: 9919/10000 (99.19%)\n",
            "\n",
            "Epoch 7\n"
          ]
        },
        {
          "output_type": "stream",
          "name": "stderr",
          "text": [
            "Train loss=0.0109 batch_id=468 Accuracy=98.67: 100%|██████████| 469/469 [00:23<00:00, 19.55it/s]\n"
          ]
        },
        {
          "output_type": "stream",
          "name": "stdout",
          "text": [
            "Test set: Average loss: 0.0312, Accuracy: 9899/10000 (98.99%)\n",
            "\n",
            "Epoch 8\n"
          ]
        },
        {
          "output_type": "stream",
          "name": "stderr",
          "text": [
            "Train loss=0.0684 batch_id=468 Accuracy=98.71: 100%|██████████| 469/469 [00:23<00:00, 19.62it/s]\n"
          ]
        },
        {
          "output_type": "stream",
          "name": "stdout",
          "text": [
            "Test set: Average loss: 0.0280, Accuracy: 9901/10000 (99.01%)\n",
            "\n",
            "Epoch 9\n"
          ]
        },
        {
          "output_type": "stream",
          "name": "stderr",
          "text": [
            "Train loss=0.0206 batch_id=468 Accuracy=98.85: 100%|██████████| 469/469 [00:23<00:00, 19.68it/s]\n"
          ]
        },
        {
          "output_type": "stream",
          "name": "stdout",
          "text": [
            "Test set: Average loss: 0.0285, Accuracy: 9910/10000 (99.10%)\n",
            "\n",
            "Epoch 10\n"
          ]
        },
        {
          "output_type": "stream",
          "name": "stderr",
          "text": [
            "Train loss=0.0094 batch_id=468 Accuracy=98.88: 100%|██████████| 469/469 [00:23<00:00, 19.83it/s]\n"
          ]
        },
        {
          "output_type": "stream",
          "name": "stdout",
          "text": [
            "Test set: Average loss: 0.0246, Accuracy: 9923/10000 (99.23%)\n",
            "\n",
            "Epoch 11\n"
          ]
        },
        {
          "output_type": "stream",
          "name": "stderr",
          "text": [
            "Train loss=0.1528 batch_id=468 Accuracy=98.96: 100%|██████████| 469/469 [00:24<00:00, 18.83it/s]\n"
          ]
        },
        {
          "output_type": "stream",
          "name": "stdout",
          "text": [
            "Test set: Average loss: 0.0249, Accuracy: 9922/10000 (99.22%)\n",
            "\n",
            "Epoch 12\n"
          ]
        },
        {
          "output_type": "stream",
          "name": "stderr",
          "text": [
            "Train loss=0.0599 batch_id=468 Accuracy=98.89: 100%|██████████| 469/469 [00:23<00:00, 19.66it/s]\n"
          ]
        },
        {
          "output_type": "stream",
          "name": "stdout",
          "text": [
            "Test set: Average loss: 0.0228, Accuracy: 9925/10000 (99.25%)\n",
            "\n",
            "Epoch 13\n"
          ]
        },
        {
          "output_type": "stream",
          "name": "stderr",
          "text": [
            "Train loss=0.0381 batch_id=468 Accuracy=99.03: 100%|██████████| 469/469 [00:23<00:00, 19.67it/s]\n"
          ]
        },
        {
          "output_type": "stream",
          "name": "stdout",
          "text": [
            "Test set: Average loss: 0.0220, Accuracy: 9925/10000 (99.25%)\n",
            "\n",
            "Epoch 14\n"
          ]
        },
        {
          "output_type": "stream",
          "name": "stderr",
          "text": [
            "Train loss=0.0058 batch_id=468 Accuracy=99.06: 100%|██████████| 469/469 [00:23<00:00, 19.81it/s]\n"
          ]
        },
        {
          "output_type": "stream",
          "name": "stdout",
          "text": [
            "Test set: Average loss: 0.0240, Accuracy: 9919/10000 (99.19%)\n",
            "\n",
            "Epoch 15\n"
          ]
        },
        {
          "output_type": "stream",
          "name": "stderr",
          "text": [
            "Train loss=0.0152 batch_id=468 Accuracy=99.12: 100%|██████████| 469/469 [00:23<00:00, 19.80it/s]\n"
          ]
        },
        {
          "output_type": "stream",
          "name": "stdout",
          "text": [
            "Test set: Average loss: 0.0213, Accuracy: 9930/10000 (99.30%)\n",
            "\n",
            "Epoch 16\n"
          ]
        },
        {
          "output_type": "stream",
          "name": "stderr",
          "text": [
            "Train loss=0.0070 batch_id=468 Accuracy=99.42: 100%|██████████| 469/469 [00:23<00:00, 19.86it/s]\n"
          ]
        },
        {
          "output_type": "stream",
          "name": "stdout",
          "text": [
            "Test set: Average loss: 0.0175, Accuracy: 9934/10000 (99.34%)\n",
            "\n",
            "Epoch 17\n"
          ]
        },
        {
          "output_type": "stream",
          "name": "stderr",
          "text": [
            "Train loss=0.1072 batch_id=468 Accuracy=99.42: 100%|██████████| 469/469 [00:24<00:00, 19.21it/s]\n"
          ]
        },
        {
          "output_type": "stream",
          "name": "stdout",
          "text": [
            "Test set: Average loss: 0.0164, Accuracy: 9944/10000 (99.44%)\n",
            "\n",
            "Epoch 18\n"
          ]
        },
        {
          "output_type": "stream",
          "name": "stderr",
          "text": [
            "Train loss=0.0102 batch_id=468 Accuracy=99.46: 100%|██████████| 469/469 [00:23<00:00, 19.89it/s]\n"
          ]
        },
        {
          "output_type": "stream",
          "name": "stdout",
          "text": [
            "Test set: Average loss: 0.0156, Accuracy: 9944/10000 (99.44%)\n",
            "\n",
            "Epoch 19\n"
          ]
        },
        {
          "output_type": "stream",
          "name": "stderr",
          "text": [
            "Train loss=0.0248 batch_id=468 Accuracy=99.52: 100%|██████████| 469/469 [00:23<00:00, 19.71it/s]\n"
          ]
        },
        {
          "output_type": "stream",
          "name": "stdout",
          "text": [
            "Test set: Average loss: 0.0162, Accuracy: 9940/10000 (99.40%)\n",
            "\n",
            "Epoch 20\n"
          ]
        },
        {
          "output_type": "stream",
          "name": "stderr",
          "text": [
            "Train loss=0.0054 batch_id=468 Accuracy=99.51: 100%|██████████| 469/469 [00:23<00:00, 20.04it/s]\n"
          ]
        },
        {
          "output_type": "stream",
          "name": "stdout",
          "text": [
            "Test set: Average loss: 0.0165, Accuracy: 9939/10000 (99.39%)\n",
            "\n"
          ]
        }
      ]
    },
    {
      "cell_type": "markdown",
      "source": [
        "### Plots"
      ],
      "metadata": {
        "id": "YVvvPndNzwDW"
      }
    },
    {
      "cell_type": "code",
      "source": [
        "fig, axs = plt.subplots(2,2,figsize=(15,10))\n",
        "axs[0, 0].plot([loss.cpu().item() for loss in train_losses])\n",
        "axs[0, 0].set_title(\"Training Loss\")\n",
        "axs[1, 0].plot(train_acc)\n",
        "axs[1, 0].set_title(\"Training Accuracy\")\n",
        "axs[0, 1].plot(test_losses)\n",
        "axs[0, 1].set_title(\"Test Loss\")\n",
        "axs[1, 1].plot(test_acc)\n",
        "axs[1, 1].set_title(\"Test Accuracy\")"
      ],
      "metadata": {
        "colab": {
          "base_uri": "https://localhost:8080/",
          "height": 801
        },
        "id": "LOpO9QIslOo2",
        "outputId": "26d0500a-8817-4228-a7ba-f5f305338169"
      },
      "execution_count": 19,
      "outputs": [
        {
          "output_type": "execute_result",
          "data": {
            "text/plain": [
              "Text(0.5, 1.0, 'Test Accuracy')"
            ]
          },
          "metadata": {},
          "execution_count": 19
        },
        {
          "output_type": "display_data",
          "data": {
            "text/plain": [
              "<Figure size 1500x1000 with 4 Axes>"
            ],
            "image/png": "[encoded data removed]"
          },
          "metadata": {}
        }
      ]
    },
    {
      "cell_type": "code",
      "source": [],
      "metadata": {
        "id": "j01Y_CN1zOW2"
      },
      "execution_count": null,
      "outputs": []
    },
    {
      "cell_type": "code",
      "source": [],
      "metadata": {
        "id": "CP3rBojBs06h"
      },
      "execution_count": null,
      "outputs": []
    }
  ]
}